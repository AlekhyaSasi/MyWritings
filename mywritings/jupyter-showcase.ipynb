{
 "cells": [
  {
   "cell_type": "code",
   "execution_count": 1,
   "id": "97eb0a4d",
   "metadata": {},
   "outputs": [],
   "source": [
    "from flytekit.configuration import Config\n",
    "from flytekit.remote import FlyteRemote\n",
    "from flytekit.tools.translator import Options"
   ]
  },
  {
   "cell_type": "code",
   "execution_count": 2,
   "id": "e5ad0c72",
   "metadata": {},
   "outputs": [],
   "source": [
    "from core.control_flow.run_merge_sort import merge_sort"
   ]
  },
  {
   "cell_type": "code",
   "execution_count": 3,
   "id": "8450e95b",
   "metadata": {},
   "outputs": [],
   "source": [
    "remote = FlyteRemote(\n",
    "    config=Config.for_endpoint(\"demo.nuclyde.io\"),\n",
    "    default_project=\"flytesnacks\",\n",
    "    default_domain=\"development\",\n",
    ")"
   ]
  },
  {
   "cell_type": "code",
   "execution_count": 4,
   "id": "7d79b7ff",
   "metadata": {},
   "outputs": [],
   "source": [
    "registered_workflow = remote.register_script(\n",
    "    merge_sort, options=Options.default_from(k8s_service_account=\"demo\")\n",
    ")"
   ]
  },
  {
   "cell_type": "code",
   "execution_count": 5,
   "id": "6391fa12",
   "metadata": {},
   "outputs": [
    {
     "data": {
      "text/plain": [
       "id {\n",
       "  project: \"flytesnacks\"\n",
       "  domain: \"development\"\n",
       "  name: \"f536157ef1e4f459c84d\"\n",
       "}\n",
       "spec {\n",
       "  launch_plan {\n",
       "    resource_type: LAUNCH_PLAN\n",
       "    project: \"flytesnacks\"\n",
       "    domain: \"development\"\n",
       "    name: \"core.control_flow.run_merge_sort.merge_sort\"\n",
       "    version: \"lC0y/z2YQl3FJ5qO7c441w==\"\n",
       "  }\n",
       "  metadata {\n",
       "    principal: \"117616563584816184451\"\n",
       "  }\n",
       "  notifications {\n",
       "  }\n",
       "  labels {\n",
       "  }\n",
       "  annotations {\n",
       "  }\n",
       "  security_context {\n",
       "    run_as {\n",
       "      k8s_service_account: \"demo\"\n",
       "    }\n",
       "  }\n",
       "  auth_role {\n",
       "  }\n",
       "}\n",
       "closure {\n",
       "  started_at {\n",
       "  }\n",
       "  duration {\n",
       "  }\n",
       "}"
      ]
     },
     "execution_count": 5,
     "metadata": {},
     "output_type": "execute_result"
    }
   ],
   "source": [
    "remote.execute(\n",
    "    registered_workflow,\n",
    "    inputs={\n",
    "        \"numbers\": [42, 41, 89, 21, 76, 94, 90, 6, 71, 9],\n",
    "        \"numbers_count\": 10,\n",
    "        \"run_local_at_count\": 3,\n",
    "    },\n",
    ")"
   ]
  },
  {
   "cell_type": "code",
   "execution_count": null,
   "id": "66926e98",
   "metadata": {},
   "outputs": [],
   "source": []
  }
 ],
 "metadata": {
  "kernelspec": {
   "display_name": "Python 3 (ipykernel)",
   "language": "python",
   "name": "python3"
  },
  "language_info": {
   "codemirror_mode": {
    "name": "ipython",
    "version": 3
   },
   "file_extension": ".py",
   "mimetype": "text/x-python",
   "name": "python",
   "nbconvert_exporter": "python",
   "pygments_lexer": "ipython3",
   "version": "3.9.5"
  }
 },
 "nbformat": 4,
 "nbformat_minor": 5
}
